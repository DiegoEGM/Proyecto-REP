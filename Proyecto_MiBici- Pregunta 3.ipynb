{
 "cells": [
  {
   "cell_type": "markdown",
   "metadata": {
    "id": "mUBbn0C6E-GM"
   },
   "source": [
    "# Proyecto Final \n",
    "## Reconocimiento Estadistico de patrones\n",
    "### Sebastian Sánchez Lara\n",
    "### Diego Emir Garcia Moreno\n"
   ]
  },
  {
   "cell_type": "markdown",
   "metadata": {
    "id": "y7ptqV2GtT3b"
   },
   "source": [
    "# Pregunta 3\n",
    "¿Hay clusters entre el mes del año y los tipos de viajes que hay?"
   ]
  },
  {
   "cell_type": "code",
   "execution_count": 6,
   "metadata": {
    "id": "WqGRk9GcGEYV"
   },
   "outputs": [],
   "source": [
    "import numpy as np\n",
    "import pandas as pd\n",
    "import random\n",
    "import matplotlib.pyplot as plt"
   ]
  },
  {
   "cell_type": "markdown",
   "metadata": {
    "id": "GEjS-k6ibMvi"
   },
   "source": [
    "Leemos los datos de la pagina web, para no gastarnos toda la RAM, usamos solo la mitas de los datos"
   ]
  },
  {
   "cell_type": "code",
   "execution_count": 7,
   "metadata": {
    "colab": {
     "base_uri": "https://localhost:8080/"
    },
    "id": "1YLU3CfGGH_I",
    "outputId": "ef277ecf-d7ec-4e1c-93c5-d7264804b148"
   },
   "outputs": [],
   "source": [
    "Mes1=[]\n",
    "Mes2=[]\n",
    "Mes3=[]\n",
    "Mes4=[]\n",
    "Mes5=[]\n",
    "Mes6=[]\n",
    "Mes7=[]\n",
    "Mes8=[]\n",
    "Mes9=[]\n",
    "Mes10=[]\n",
    "Mes11=[]\n",
    "Mes12=[]\n",
    "Mes12.append(pd.read_csv('https://www.mibici.net/site/assets/files/1079/datos_abiertos_2014_12.csv',storage_options={\"User-Agent\": \"XY\"}))\n",
    "Mes1.append(pd.read_csv('https://www.mibici.net/site/assets/files/1084/datos_abiertos_2015_01.csv',storage_options={\"User-Agent\": \"XY\"}))\n",
    "Mes2.append(pd.read_csv('https://www.mibici.net/site/assets/files/1097/datos_abiertos_2015_02.csv',storage_options={\"User-Agent\": \"XY\"}))\n",
    "Mes3.append(pd.read_csv('https://www.mibici.net/site/assets/files/1098/datos_abiertos_2015_03.csv',storage_options={\"User-Agent\": \"XY\"}))\n",
    "Mes4.append(pd.read_csv('https://www.mibici.net/site/assets/files/1099/datos_abiertos_2015_04.csv',storage_options={\"User-Agent\": \"XY\"}))\n",
    "Mes5.append(pd.read_csv('https://www.mibici.net/site/assets/files/1100/datos_abiertos_2015_05.csv',storage_options={\"User-Agent\": \"XY\"}))\n",
    "Mes6.append(pd.read_csv('https://www.mibici.net/site/assets/files/1101/datos_abiertos_2015_06.csv',storage_options={\"User-Agent\": \"XY\"}))\n",
    "Mes7.append(pd.read_csv('https://www.mibici.net/site/assets/files/1102/datos_abiertos_2015_07.csv',storage_options={\"User-Agent\": \"XY\"}))\n",
    "Mes8.append(pd.read_csv('https://www.mibici.net/site/assets/files/1103/datos_abiertos_2015_08.csv',storage_options={\"User-Agent\": \"XY\"}))\n",
    "Mes9.append(pd.read_csv('https://www.mibici.net/site/assets/files/1104/datos_abiertos_2015_09.csv',storage_options={\"User-Agent\": \"XY\"}))\n",
    "Mes10.append(pd.read_csv('https://www.mibici.net/site/assets/files/1105/datos_abiertos_2015_10.csv',storage_options={\"User-Agent\": \"XY\"}))\n",
    "Mes11.append(pd.read_csv('https://www.mibici.net/site/assets/files/1106/datos_abiertos_2015_11.csv',storage_options={\"User-Agent\": \"XY\"}))\n",
    "Mes12.append(pd.read_csv('https://www.mibici.net/site/assets/files/1107/datos_abiertos_2015_12.csv',storage_options={\"User-Agent\": \"XY\"}))\n",
    "Mes1.append(pd.read_csv('https://www.mibici.net/site/assets/files/1020/datos_abiertos_2016_01-1.csv',storage_options={\"User-Agent\": \"XY\"}))\n",
    "Mes2.append(pd.read_csv('https://www.mibici.net/site/assets/files/1021/datos_abiertos_2016_02.csv',storage_options={\"User-Agent\": \"XY\"}))\n",
    "Mes3.append(pd.read_csv('https://www.mibici.net/site/assets/files/1023/datos_abiertos_2016_03.csv',storage_options={\"User-Agent\": \"XY\"}))\n",
    "Mes4.append(pd.read_csv('https://www.mibici.net/site/assets/files/1029/datos_abiertos_2016_04.csv',storage_options={\"User-Agent\": \"XY\"}))\n",
    "Mes5.append(pd.read_csv('https://www.mibici.net/site/assets/files/1058/datos_abiertos_2016_05.csv',storage_options={\"User-Agent\": \"XY\"}))\n",
    "Mes6.append(pd.read_csv('https://www.mibici.net/site/assets/files/1080/datos_abiertos_2016_06.csv',storage_options={\"User-Agent\": \"XY\"}))\n",
    "Mes7.append(pd.read_csv('https://www.mibici.net/site/assets/files/1081/datos_abiertos_2016_07.csv',storage_options={\"User-Agent\": \"XY\"}))\n",
    "Mes8.append(pd.read_csv('https://www.mibici.net/site/assets/files/1082/datos_abiertos_2016_08.csv',storage_options={\"User-Agent\": \"XY\"}))\n",
    "Mes9.append(pd.read_csv('https://www.mibici.net/site/assets/files/1083/datos_abiertos_2016_09.csv',storage_options={\"User-Agent\": \"XY\"}))\n",
    "Mes10.append(pd.read_csv('https://www.mibici.net/site/assets/files/1108/datos_abiertos_2016_10.csv',storage_options={\"User-Agent\": \"XY\"}))\n",
    "Mes11.append(pd.read_csv('https://www.mibici.net/site/assets/files/1109/datos_abiertos_2016_11.csv',storage_options={\"User-Agent\": \"XY\"}))\n",
    "Mes12.append(pd.read_csv('https://www.mibici.net/site/assets/files/1110/datos_abiertos_2016_12.csv',storage_options={\"User-Agent\": \"XY\"}))\n",
    "Mes1.append(pd.read_csv('https://www.mibici.net/site/assets/files/1022/datos_abiertos_2017_01.csv',storage_options={\"User-Agent\": \"XY\"}))\n",
    "Mes2.append(pd.read_csv('https://www.mibici.net/site/assets/files/1111/datos_abiertos_2017_02.csv',storage_options={\"User-Agent\": \"XY\"}))\n",
    "Mes3.append(pd.read_csv('https://www.mibici.net/site/assets/files/1112/datos_abiertos_2017_03.csv',storage_options={\"User-Agent\": \"XY\"}))\n",
    "Mes4.append(pd.read_csv('https://www.mibici.net/site/assets/files/1115/datos_abiertos_2017_04-1.csv',storage_options={\"User-Agent\": \"XY\"}))\n",
    "Mes5.append(pd.read_csv('https://www.mibici.net/site/assets/files/1116/datos_abiertos_2017_05.csv',storage_options={\"User-Agent\": \"XY\"}))\n",
    "Mes6.append(pd.read_csv('https://www.mibici.net/site/assets/files/1119/datos_abiertos_2017_06.csv',storage_options={\"User-Agent\": \"XY\"}))\n",
    "Mes7.append(pd.read_csv('https://www.mibici.net/site/assets/files/1120/datos_abiertos_2017_07.csv',storage_options={\"User-Agent\": \"XY\"}))\n",
    "Mes8.append(pd.read_csv('https://www.mibici.net/site/assets/files/1122/datos_abiertos_2017_08.csv',storage_options={\"User-Agent\": \"XY\"}))\n",
    "Mes9.append(pd.read_csv('https://www.mibici.net/site/assets/files/1123/datos_abiertos_2017_09.csv',storage_options={\"User-Agent\": \"XY\"}))\n",
    "Mes10.append(pd.read_csv('https://www.mibici.net/site/assets/files/1124/datos_abiertos_2017_10.csv',storage_options={\"User-Agent\": \"XY\"}))\n",
    "Mes11.append(pd.read_csv('https://www.mibici.net/site/assets/files/1197/datos_abiertos_2017_11.csv',storage_options={\"User-Agent\": \"XY\"}))\n",
    "Mes12.append(pd.read_csv('https://www.mibici.net/site/assets/files/1198/datos_abiertos_2017_12.csv',storage_options={\"User-Agent\": \"XY\"}))\n",
    "Mes1.append(pd.read_csv('https://www.mibici.net/site/assets/files/1200/datos_abiertos_2018_01.csv',storage_options={\"User-Agent\": \"XY\"}))\n",
    "Mes2.append(pd.read_csv('https://www.mibici.net/site/assets/files/1201/datos_abiertos_2018_02.csv',storage_options={\"User-Agent\": \"XY\"}))\n",
    "Mes3.append(pd.read_csv('https://www.mibici.net/site/assets/files/1202/datos_abiertos_2018_03.csv',storage_options={\"User-Agent\": \"XY\"}))\n",
    "Mes4.append(pd.read_csv('https://www.mibici.net/site/assets/files/1203/datos_abiertos_2018_04.csv',storage_options={\"User-Agent\": \"XY\"}))\n",
    "Mes5.append(pd.read_csv('https://www.mibici.net/site/assets/files/1204/datos_abiertos_2018_05.csv',storage_options={\"User-Agent\": \"XY\"}))\n",
    "Mes6.append(pd.read_csv('https://www.mibici.net/site/assets/files/1205/datos_abiertos_2018_06.csv',storage_options={\"User-Agent\": \"XY\"}))\n",
    "Mes7.append(pd.read_csv('https://www.mibici.net/site/assets/files/1206/datos_abiertos_2018_07.csv',storage_options={\"User-Agent\": \"XY\"}))\n",
    "Mes8.append(pd.read_csv('https://www.mibici.net/site/assets/files/1207/datos_abiertos_2018_08.csv',storage_options={\"User-Agent\": \"XY\"}))\n",
    "Mes9.append(pd.read_csv('https://www.mibici.net/site/assets/files/1208/datos_abiertos_2018_09.csv',storage_options={\"User-Agent\": \"XY\"}))\n",
    "Mes10.append(pd.read_csv('https://www.mibici.net/site/assets/files/1209/datos_abiertos_2018_10.csv',storage_options={\"User-Agent\": \"XY\"}))\n",
    "Mes11.append(pd.read_csv('https://www.mibici.net/site/assets/files/1210/datos_abiertos_2018_11.csv',storage_options={\"User-Agent\": \"XY\"}))\n",
    "Mes12.append(pd.read_csv('https://www.mibici.net/site/assets/files/1211/datos_abiertos_2018_12.csv',storage_options={\"User-Agent\": \"XY\"}))\n",
    "Mes1.append(pd.read_csv('https://www.mibici.net/site/assets/files/1214/datos_abiertos_2019_01.csv',storage_options={\"User-Agent\": \"XY\"}))\n",
    "Mes2.append(pd.read_csv('https://www.mibici.net/site/assets/files/1217/datos_abiertos_2019_02.csv',storage_options={\"User-Agent\": \"XY\"}))\n",
    "Mes3.append(pd.read_csv('https://www.mibici.net/site/assets/files/1218/datos_abiertos_2019_03.csv',storage_options={\"User-Agent\": \"XY\"}))\n",
    "Mes4.append(pd.read_csv('https://www.mibici.net/site/assets/files/1219/datos_abiertos_2019_04.csv',storage_options={\"User-Agent\": \"XY\"}))\n",
    "Mes5.append(pd.read_csv('https://www.mibici.net/site/assets/files/1220/datos_abiertos_2019_05.csv',storage_options={\"User-Agent\": \"XY\"}))\n",
    "Mes6.append(pd.read_csv('https://www.mibici.net/site/assets/files/1221/datos_abiertos_2019_06.csv',storage_options={\"User-Agent\": \"XY\"}))\n",
    "Mes7.append(pd.read_csv('https://www.mibici.net/site/assets/files/1222/datos_abiertos_2019_07.csv',storage_options={\"User-Agent\": \"XY\"}))\n",
    "Mes8.append(pd.read_csv('https://www.mibici.net/site/assets/files/1223/datos_abiertos_2019_08.csv',storage_options={\"User-Agent\": \"XY\"}))\n",
    "Mes9.append(pd.read_csv('https://www.mibici.net/site/assets/files/1224/datos_abiertos_2019_09.csv',storage_options={\"User-Agent\": \"XY\"}))\n",
    "Mes10.append(pd.read_csv('https://www.mibici.net/site/assets/files/1225/datos_abiertos_2019_10.csv',storage_options={\"User-Agent\": \"XY\"}))\n",
    "Mes11.append(pd.read_csv('https://www.mibici.net/site/assets/files/1227/datos_abiertos_2019_11.csv',storage_options={\"User-Agent\": \"XY\"}))\n",
    "Mes12.append(pd.read_csv('https://www.mibici.net/site/assets/files/1228/datos_abiertos_2019_12.csv',storage_options={\"User-Agent\": \"XY\"}))\n",
    "Mes1.append(pd.read_csv('https://www.mibici.net/site/assets/files/1230/datos_abiertos_2020_01.csv',storage_options={\"User-Agent\": \"XY\"}))\n",
    "Mes2.append(pd.read_csv('https://www.mibici.net/site/assets/files/1231/datos_abiertos_2020_02.csv',storage_options={\"User-Agent\": \"XY\"}))\n",
    "Mes3.append(pd.read_csv('https://www.mibici.net/site/assets/files/1232/datos_abiertos_2020_03.csv',storage_options={\"User-Agent\": \"XY\"}))\n",
    "Mes4.append(pd.read_csv('https://www.mibici.net/site/assets/files/1235/datos_abiertos_2020_04.csv',storage_options={\"User-Agent\": \"XY\"}))\n",
    "Mes5.append(pd.read_csv('https://www.mibici.net/site/assets/files/1236/datos_abiertos_2020_05.csv',storage_options={\"User-Agent\": \"XY\"}))\n",
    "Mes6.append(pd.read_csv('https://www.mibici.net/site/assets/files/1237/datos_abiertos_2020_06.csv',storage_options={\"User-Agent\": \"XY\"}))\n",
    "Mes7.append(pd.read_csv('https://www.mibici.net/site/assets/files/1238/datos_abiertos_2020_07.csv',storage_options={\"User-Agent\": \"XY\"}))\n",
    "Mes8.append(pd.read_csv('https://www.mibici.net/site/assets/files/1239/datos_abiertos_2020_08.csv',storage_options={\"User-Agent\": \"XY\"}))\n",
    "Mes9.append(pd.read_csv('https://www.mibici.net/site/assets/files/1240/datos_abiertos_2020_09.csv',storage_options={\"User-Agent\": \"XY\"}))\n",
    "Mes10.append(pd.read_csv('https://www.mibici.net/site/assets/files/1241/datos_abiertos_2020_10.csv',storage_options={\"User-Agent\": \"XY\"}))\n",
    "Mes11.append(pd.read_csv('https://www.mibici.net/site/assets/files/1317/datos_abiertos_2020_11.csv',storage_options={\"User-Agent\": \"XY\"}))\n",
    "Mes12.append(pd.read_csv('https://www.mibici.net/site/assets/files/1318/datos_abiertos_2020_12.csv',storage_options={\"User-Agent\": \"XY\"}))\n",
    "Mes1.append(pd.read_csv('https://www.mibici.net/site/assets/files/1320/datos_abiertos_2021_01.csv',storage_options={\"User-Agent\": \"XY\"}))\n",
    "Mes2.append(pd.read_csv('https://www.mibici.net/site/assets/files/1323/datos_abiertos_2021_02.csv',storage_options={\"User-Agent\": \"XY\"}))\n",
    "Mes3.append(pd.read_csv('https://www.mibici.net/site/assets/files/1322/datos_abiertos_2021_03.csv',storage_options={\"User-Agent\": \"XY\"}))\n",
    "Mes4.append(pd.read_csv('https://www.mibici.net/site/assets/files/2129/datos_abiertos_2021_04.csv',storage_options={\"User-Agent\": \"XY\"}))\n",
    "Mes1=pd.concat(Mes1)\n",
    "Mes2=pd.concat(Mes2)\n",
    "Mes3=pd.concat(Mes3)\n",
    "Mes4=pd.concat(Mes4)\n",
    "Mes5=pd.concat(Mes5)\n",
    "Mes6=pd.concat(Mes6)\n",
    "Mes7=pd.concat(Mes7)\n",
    "Mes8=pd.concat(Mes8)\n",
    "Mes9=pd.concat(Mes9)\n",
    "Mes10=pd.concat(Mes10)\n",
    "Mes11=pd.concat(Mes11)\n",
    "Mes12=pd.concat(Mes12)\n",
    "#print(Datos.head)\n",
    "#Limpiamos los datos\n",
    "Mes1=Mes1.dropna()\n",
    "Mes2=Mes2.dropna()\n",
    "Mes3=Mes3.dropna()\n",
    "Mes4=Mes4.dropna()\n",
    "Mes5=Mes5.dropna()\n",
    "Mes6=Mes6.dropna()\n",
    "Mes7=Mes7.dropna()\n",
    "Mes8=Mes8.dropna()\n",
    "Mes9=Mes9.dropna()\n",
    "Mes10=Mes10.dropna()\n",
    "Mes11=Mes11.dropna()\n",
    "Mes12=Mes12.dropna()\n",
    "Mes1=Mes1.sample(n=1000)\n",
    "Mes2=Mes2.sample(n=1000)\n",
    "Mes3=Mes3.sample(n=1000)\n",
    "Mes4=Mes4.sample(n=1000)\n",
    "Mes5=Mes5.sample(n=1000)\n",
    "Mes6=Mes6.sample(n=1000)\n",
    "Mes7=Mes7.sample(n=1000)\n",
    "Mes8=Mes8.sample(n=1000)\n",
    "Mes9=Mes9.sample(n=1000)\n",
    "Mes10=Mes10.sample(n=1000)\n",
    "Mes11=Mes11.sample(n=1000)\n",
    "Mes12=Mes12.sample(n=1000)"
   ]
  },
  {
   "cell_type": "markdown",
   "metadata": {},
   "source": [
    "# Problema 3"
   ]
  },
  {
   "cell_type": "code",
   "execution_count": null,
   "metadata": {},
   "outputs": [],
   "source": []
  }
 ],
 "metadata": {
  "colab": {
   "provenance": []
  },
  "kernelspec": {
   "display_name": "Python 3 (ipykernel)",
   "language": "python",
   "name": "python3"
  },
  "language_info": {
   "codemirror_mode": {
    "name": "ipython",
    "version": 3
   },
   "file_extension": ".py",
   "mimetype": "text/x-python",
   "name": "python",
   "nbconvert_exporter": "python",
   "pygments_lexer": "ipython3",
   "version": "3.11.1"
  }
 },
 "nbformat": 4,
 "nbformat_minor": 1
}
