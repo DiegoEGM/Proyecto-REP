{
 "cells": [
  {
   "cell_type": "markdown",
   "metadata": {
    "id": "mUBbn0C6E-GM"
   },
   "source": [
    "# Proyecto Final \n",
    "## Reconocimiento Estadistico de patrones\n",
    "### Sebastian Sánchez Lara\n",
    "### Diego Emir Garcia Moreno\n"
   ]
  },
  {
   "cell_type": "markdown",
   "metadata": {
    "id": "y7ptqV2GtT3b"
   },
   "source": [
    "# Pregunta 3\n",
    "¿Hay clusters entre el mes del año y los tipos de viajes que hay?"
   ]
  },
  {
   "cell_type": "code",
   "execution_count": 1,
   "metadata": {
    "id": "WqGRk9GcGEYV"
   },
   "outputs": [],
   "source": [
    "import numpy as np\n",
    "import pandas as pd\n",
    "import random\n",
    "import matplotlib.pyplot as plt"
   ]
  },
  {
   "cell_type": "markdown",
   "metadata": {
    "id": "GEjS-k6ibMvi"
   },
   "source": [
    "Leemos los datos de la pagina web, para no gastarnos toda la RAM, usamos solo la mitas de los datos"
   ]
  },
  {
   "cell_type": "code",
   "execution_count": 10,
   "metadata": {
    "colab": {
     "base_uri": "https://localhost:8080/"
    },
    "id": "1YLU3CfGGH_I",
    "outputId": "ef277ecf-d7ec-4e1c-93c5-d7264804b148"
   },
   "outputs": [
    {
     "name": "stdout",
     "output_type": "stream",
     "text": [
      "<bound method NDFrame.head of         Viaje_Id  Usuario_Id Genero  Año_de_nacimiento     Inicio_del_viaje  \\\n",
      "64      18808017     1007347      M             1994.0  2021-04-01 06:07:50   \n",
      "95094   12284086       37463      M             1965.0  2019-08-08 22:24:05   \n",
      "140142   8725824      342307      F             1993.0  2018-12-13 17:51:33   \n",
      "189526  11475982      161357      M             1955.0  2019-06-15 16:48:36   \n",
      "179744  18478348      706650      M             1988.0  2021-02-25 17:05:20   \n",
      "...          ...         ...    ...                ...                  ...   \n",
      "60342    1238923       70715      F             1973.0  2016-08-27 14:02:59   \n",
      "16846    1714373      117771      M             1984.0  2016-12-05 09:58:10   \n",
      "29174   16622877      110000      M             1978.0  2020-08-05 11:25:51   \n",
      "71703   18893800      344641      M             1964.0  2021-04-11 15:17:25   \n",
      "104232   7192461      215360      M             1977.0  2018-08-13 14:07:50   \n",
      "\n",
      "              Fin_del_viaje  Origen_Id  Destino_Id  \n",
      "64      2021-04-01 06:16:57         17         249  \n",
      "95094   2019-08-08 22:28:37         84          50  \n",
      "140142  2018-12-13 18:02:45        212          68  \n",
      "189526  2019-06-15 16:55:19         32          50  \n",
      "179744  2021-02-25 17:15:11         84          78  \n",
      "...                     ...        ...         ...  \n",
      "60342   2016-08-27 14:23:55          4          26  \n",
      "16846   2016-12-05 10:21:58         12          80  \n",
      "29174   2020-08-05 11:34:07        166          38  \n",
      "71703   2021-04-11 15:27:56        201          20  \n",
      "104232  2018-08-13 14:14:57         70          51  \n",
      "\n",
      "[10000 rows x 8 columns]>\n"
     ]
    }
   ],
   "source": [
    "Datos=[]\n",
    "Datos.append(pd.read_csv('https://www.mibici.net/site/assets/files/1079/datos_abiertos_2014_12.csv',storage_options={\"User-Agent\": \"XY\"}))\n",
    "Datos.append(pd.read_csv('https://www.mibici.net/site/assets/files/1097/datos_abiertos_2015_02.csv',storage_options={\"User-Agent\": \"XY\"}))\n",
    "Datos.append(pd.read_csv('https://www.mibici.net/site/assets/files/1099/datos_abiertos_2015_04.csv',storage_options={\"User-Agent\": \"XY\"}))\n",
    "Datos.append(pd.read_csv('https://www.mibici.net/site/assets/files/1101/datos_abiertos_2015_06.csv',storage_options={\"User-Agent\": \"XY\"}))\n",
    "Datos.append(pd.read_csv('https://www.mibici.net/site/assets/files/1103/datos_abiertos_2015_08.csv',storage_options={\"User-Agent\": \"XY\"}))\n",
    "Datos.append(pd.read_csv('https://www.mibici.net/site/assets/files/1105/datos_abiertos_2015_10.csv',storage_options={\"User-Agent\": \"XY\"}))\n",
    "Datos.append(pd.read_csv('https://www.mibici.net/site/assets/files/1107/datos_abiertos_2015_12.csv',storage_options={\"User-Agent\": \"XY\"}))\n",
    "Datos.append(pd.read_csv('https://www.mibici.net/site/assets/files/1021/datos_abiertos_2016_02.csv',storage_options={\"User-Agent\": \"XY\"}))\n",
    "Datos.append(pd.read_csv('https://www.mibici.net/site/assets/files/1029/datos_abiertos_2016_04.csv',storage_options={\"User-Agent\": \"XY\"}))\n",
    "Datos.append(pd.read_csv('https://www.mibici.net/site/assets/files/1080/datos_abiertos_2016_06.csv',storage_options={\"User-Agent\": \"XY\"}))\n",
    "Datos.append(pd.read_csv('https://www.mibici.net/site/assets/files/1082/datos_abiertos_2016_08.csv',storage_options={\"User-Agent\": \"XY\"}))\n",
    "Datos.append(pd.read_csv('https://www.mibici.net/site/assets/files/1108/datos_abiertos_2016_10.csv',storage_options={\"User-Agent\": \"XY\"}))\n",
    "Datos.append(pd.read_csv('https://www.mibici.net/site/assets/files/1110/datos_abiertos_2016_12.csv',storage_options={\"User-Agent\": \"XY\"}))\n",
    "Datos.append(pd.read_csv('https://www.mibici.net/site/assets/files/1111/datos_abiertos_2017_02.csv',storage_options={\"User-Agent\": \"XY\"}))\n",
    "Datos.append(pd.read_csv('https://www.mibici.net/site/assets/files/1115/datos_abiertos_2017_04-1.csv',storage_options={\"User-Agent\": \"XY\"}))\n",
    "Datos.append(pd.read_csv('https://www.mibici.net/site/assets/files/1119/datos_abiertos_2017_06.csv',storage_options={\"User-Agent\": \"XY\"}))\n",
    "Datos.append(pd.read_csv('https://www.mibici.net/site/assets/files/1122/datos_abiertos_2017_08.csv',storage_options={\"User-Agent\": \"XY\"}))\n",
    "Datos.append(pd.read_csv('https://www.mibici.net/site/assets/files/1124/datos_abiertos_2017_10.csv',storage_options={\"User-Agent\": \"XY\"}))\n",
    "Datos.append(pd.read_csv('https://www.mibici.net/site/assets/files/1198/datos_abiertos_2017_12.csv',storage_options={\"User-Agent\": \"XY\"}))\n",
    "Datos.append(pd.read_csv('https://www.mibici.net/site/assets/files/1201/datos_abiertos_2018_02.csv',storage_options={\"User-Agent\": \"XY\"}))\n",
    "Datos.append(pd.read_csv('https://www.mibici.net/site/assets/files/1203/datos_abiertos_2018_04.csv',storage_options={\"User-Agent\": \"XY\"}))\n",
    "Datos.append(pd.read_csv('https://www.mibici.net/site/assets/files/1205/datos_abiertos_2018_06.csv',storage_options={\"User-Agent\": \"XY\"}))\n",
    "Datos.append(pd.read_csv('https://www.mibici.net/site/assets/files/1207/datos_abiertos_2018_08.csv',storage_options={\"User-Agent\": \"XY\"}))\n",
    "Datos.append(pd.read_csv('https://www.mibici.net/site/assets/files/1209/datos_abiertos_2018_10.csv',storage_options={\"User-Agent\": \"XY\"}))\n",
    "Datos.append(pd.read_csv('https://www.mibici.net/site/assets/files/1211/datos_abiertos_2018_12.csv',storage_options={\"User-Agent\": \"XY\"}))\n",
    "Datos.append(pd.read_csv('https://www.mibici.net/site/assets/files/1217/datos_abiertos_2019_02.csv',storage_options={\"User-Agent\": \"XY\"}))\n",
    "Datos.append(pd.read_csv('https://www.mibici.net/site/assets/files/1219/datos_abiertos_2019_04.csv',storage_options={\"User-Agent\": \"XY\"}))\n",
    "Datos.append(pd.read_csv('https://www.mibici.net/site/assets/files/1221/datos_abiertos_2019_06.csv',storage_options={\"User-Agent\": \"XY\"}))\n",
    "Datos.append(pd.read_csv('https://www.mibici.net/site/assets/files/1223/datos_abiertos_2019_08.csv',storage_options={\"User-Agent\": \"XY\"}))\n",
    "Datos.append(pd.read_csv('https://www.mibici.net/site/assets/files/1225/datos_abiertos_2019_10.csv',storage_options={\"User-Agent\": \"XY\"}))\n",
    "Datos.append(pd.read_csv('https://www.mibici.net/site/assets/files/1228/datos_abiertos_2019_12.csv',storage_options={\"User-Agent\": \"XY\"}))\n",
    "Datos.append(pd.read_csv('https://www.mibici.net/site/assets/files/1231/datos_abiertos_2020_02.csv',storage_options={\"User-Agent\": \"XY\"}))\n",
    "Datos.append(pd.read_csv('https://www.mibici.net/site/assets/files/1235/datos_abiertos_2020_04.csv',storage_options={\"User-Agent\": \"XY\"}))\n",
    "Datos.append(pd.read_csv('https://www.mibici.net/site/assets/files/1237/datos_abiertos_2020_06.csv',storage_options={\"User-Agent\": \"XY\"}))\n",
    "Datos.append(pd.read_csv('https://www.mibici.net/site/assets/files/1239/datos_abiertos_2020_08.csv',storage_options={\"User-Agent\": \"XY\"}))\n",
    "Datos.append(pd.read_csv('https://www.mibici.net/site/assets/files/1241/datos_abiertos_2020_10.csv',storage_options={\"User-Agent\": \"XY\"}))\n",
    "Datos.append(pd.read_csv('https://www.mibici.net/site/assets/files/1318/datos_abiertos_2020_12.csv',storage_options={\"User-Agent\": \"XY\"}))\n",
    "Datos.append(pd.read_csv('https://www.mibici.net/site/assets/files/1323/datos_abiertos_2021_02.csv',storage_options={\"User-Agent\": \"XY\"}))\n",
    "Datos.append(pd.read_csv('https://www.mibici.net/site/assets/files/2129/datos_abiertos_2021_04.csv',storage_options={\"User-Agent\": \"XY\"}))\n",
    "Datos=pd.concat(Datos)\n",
    "#print(Datos.head)\n",
    "#Limpiamos los datos\n",
    "Datos=Datos.dropna()\n",
    "Datos=Datos.sample(n=10000)\n",
    "print(Datos.head)"
   ]
  },
  {
   "cell_type": "markdown",
   "metadata": {},
   "source": [
    "# Problema 3"
   ]
  },
  {
   "cell_type": "code",
   "execution_count": null,
   "metadata": {},
   "outputs": [],
   "source": []
  }
 ],
 "metadata": {
  "colab": {
   "provenance": []
  },
  "kernelspec": {
   "display_name": "Python 3 (ipykernel)",
   "language": "python",
   "name": "python3"
  },
  "language_info": {
   "codemirror_mode": {
    "name": "ipython",
    "version": 3
   },
   "file_extension": ".py",
   "mimetype": "text/x-python",
   "name": "python",
   "nbconvert_exporter": "python",
   "pygments_lexer": "ipython3",
   "version": "3.11.1"
  }
 },
 "nbformat": 4,
 "nbformat_minor": 1
}
